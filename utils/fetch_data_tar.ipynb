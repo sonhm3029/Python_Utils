{
 "cells": [
  {
   "cell_type": "markdown",
   "metadata": {},
   "source": [
    "## Ví dụ với tập data\n",
    "\n",
    "[Apache SpamAssassin's public datasets](https://spamassassin.apache.org/old/publiccorpus/)"
   ]
  },
  {
   "cell_type": "markdown",
   "metadata": {},
   "source": [
    "- Create a directory: os.mkdir()\n",
    "- Create all intermediate-level directories: os.makedirs()"
   ]
  },
  {
   "cell_type": "code",
   "execution_count": 18,
   "metadata": {},
   "outputs": [],
   "source": [
    "import os\n",
    "import tarfile\n",
    "import urllib.request\n",
    "from tqdm import tqdm\n",
    "\n",
    "DOWNLOAD_ROOT = \"https://spamassassin.apache.org/old/publiccorpus/\"\n",
    "HAM_URL = DOWNLOAD_ROOT + \"20030228_easy_ham.tar.bz2\"\n",
    "SPAM_URL = DOWNLOAD_ROOT + \"20030228_spam.tar.bz2\"\n",
    "SPAM_PATH = os.path.join(\"datasets\", \"spam\")\n",
    "\n",
    "def fetch_spam_data(spam_url = SPAM_URL, spam_path=SPAM_PATH):\n",
    "    \n",
    "    if not os.path.isdir(spam_path):\n",
    "        print('ok')\n",
    "        os.makedirs(spam_path)\n",
    "        \n",
    "    with tqdm(((\"ham.tar.bz2\", HAM_URL), (\"spam.tar.bz2\", SPAM_URL))) as dwl_file:\n",
    "        dwl_file.set_description(\"Download file\")\n",
    "        for filename, url in dwl_file:\n",
    "            path = os.path.join(spam_path, filename)\n",
    "            if not os.path.isfile(path):\n",
    "                urllib.request.urlretrieve(url, path)\n",
    "            tar_bz2_file = tarfile.open(path)\n",
    "            tar_bz2_file.extractall(path=SPAM_PATH)\n",
    "            tar_bz2_file.close()\n",
    "            \n",
    "    # for filename, url in ((\"ham.tar.bz2\", HAM_URL), (\"spam.tar.bz2\", SPAM_URL)):\n",
    "    #     path = os.path.join(spam_path, filename)\n",
    "    #     if not os.path.isfile(path):\n",
    "    #         urllib.request.urlretrieve(url, path)\n",
    "    #     tar_bz2_file = tarfile.open(path)\n",
    "    #     tar_bz2_file.extractall(path=SPAM_PATH)\n",
    "    #     tar_bz2_file.close()\n",
    "    "
   ]
  },
  {
   "cell_type": "code",
   "execution_count": 19,
   "metadata": {},
   "outputs": [
    {
     "name": "stdout",
     "output_type": "stream",
     "text": [
      "ok\n"
     ]
    },
    {
     "name": "stderr",
     "output_type": "stream",
     "text": [
      "Download file: 100%|██████████| 2/2 [00:13<00:00,  6.54s/it]\n"
     ]
    }
   ],
   "source": [
    "fetch_spam_data()"
   ]
  }
 ],
 "metadata": {
  "kernelspec": {
   "display_name": "Python 3.9.7 ('base')",
   "language": "python",
   "name": "python3"
  },
  "language_info": {
   "codemirror_mode": {
    "name": "ipython",
    "version": 3
   },
   "file_extension": ".py",
   "mimetype": "text/x-python",
   "name": "python",
   "nbconvert_exporter": "python",
   "pygments_lexer": "ipython3",
   "version": "3.9.7"
  },
  "orig_nbformat": 4,
  "vscode": {
   "interpreter": {
    "hash": "a99539085cd3bdd5c32c96cfbe8da0377cdfd87c78a129b6678f1e2495c8398d"
   }
  }
 },
 "nbformat": 4,
 "nbformat_minor": 2
}
